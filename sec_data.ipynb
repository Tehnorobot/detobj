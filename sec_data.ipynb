{
  "nbformat": 4,
  "nbformat_minor": 0,
  "metadata": {
    "colab": {
      "name": "sec_data.ipynb",
      "provenance": [],
      "collapsed_sections": [
        "F4FaE7KVRWl2",
        "-rbnVapKPU47",
        "I95MvqDMPegZ",
        "IP0GHVQDm6Th"
      ]
    },
    "kernelspec": {
      "name": "python3",
      "display_name": "Python 3"
    },
    "language_info": {
      "name": "python"
    },
    "gpuClass": "standard"
  },
  "cells": [
    {
      "cell_type": "code",
      "source": [
        "!pip install map-boxes\n",
        "!pip install -U albumentations"
      ],
      "metadata": {
        "colab": {
          "base_uri": "https://localhost:8080/"
        },
        "id": "p5tXdbZ4Cv-0",
        "outputId": "d2b6c793-afee-44fa-b61c-4ac3bbf1fe7e"
      },
      "execution_count": 14,
      "outputs": [
        {
          "output_type": "stream",
          "name": "stdout",
          "text": [
            "Looking in indexes: https://pypi.org/simple, https://us-python.pkg.dev/colab-wheels/public/simple/\n",
            "Collecting map-boxes\n",
            "  Downloading map_boxes-1.0.5-py3-none-any.whl (5.1 kB)\n",
            "Requirement already satisfied: pandas in /usr/local/lib/python3.7/dist-packages (from map-boxes) (1.3.5)\n",
            "Requirement already satisfied: numpy in /usr/local/lib/python3.7/dist-packages (from map-boxes) (1.21.6)\n",
            "Requirement already satisfied: pytz>=2017.3 in /usr/local/lib/python3.7/dist-packages (from pandas->map-boxes) (2022.1)\n",
            "Requirement already satisfied: python-dateutil>=2.7.3 in /usr/local/lib/python3.7/dist-packages (from pandas->map-boxes) (2.8.2)\n",
            "Requirement already satisfied: six>=1.5 in /usr/local/lib/python3.7/dist-packages (from python-dateutil>=2.7.3->pandas->map-boxes) (1.15.0)\n",
            "Installing collected packages: map-boxes\n",
            "Successfully installed map-boxes-1.0.5\n",
            "Looking in indexes: https://pypi.org/simple, https://us-python.pkg.dev/colab-wheels/public/simple/\n",
            "Requirement already satisfied: albumentations in /usr/local/lib/python3.7/dist-packages (1.2.1)\n",
            "Requirement already satisfied: opencv-python-headless>=4.1.1 in /usr/local/lib/python3.7/dist-packages (from albumentations) (4.6.0.66)\n",
            "Requirement already satisfied: scipy in /usr/local/lib/python3.7/dist-packages (from albumentations) (1.7.3)\n",
            "Requirement already satisfied: numpy>=1.11.1 in /usr/local/lib/python3.7/dist-packages (from albumentations) (1.21.6)\n",
            "Requirement already satisfied: scikit-image>=0.16.1 in /usr/local/lib/python3.7/dist-packages (from albumentations) (0.18.3)\n",
            "Requirement already satisfied: PyYAML in /usr/local/lib/python3.7/dist-packages (from albumentations) (3.13)\n",
            "Requirement already satisfied: qudida>=0.0.4 in /usr/local/lib/python3.7/dist-packages (from albumentations) (0.0.4)\n",
            "Requirement already satisfied: typing-extensions in /usr/local/lib/python3.7/dist-packages (from qudida>=0.0.4->albumentations) (4.1.1)\n",
            "Requirement already satisfied: scikit-learn>=0.19.1 in /usr/local/lib/python3.7/dist-packages (from qudida>=0.0.4->albumentations) (1.0.2)\n",
            "Requirement already satisfied: tifffile>=2019.7.26 in /usr/local/lib/python3.7/dist-packages (from scikit-image>=0.16.1->albumentations) (2021.11.2)\n",
            "Requirement already satisfied: PyWavelets>=1.1.1 in /usr/local/lib/python3.7/dist-packages (from scikit-image>=0.16.1->albumentations) (1.3.0)\n",
            "Requirement already satisfied: imageio>=2.3.0 in /usr/local/lib/python3.7/dist-packages (from scikit-image>=0.16.1->albumentations) (2.9.0)\n",
            "Requirement already satisfied: networkx>=2.0 in /usr/local/lib/python3.7/dist-packages (from scikit-image>=0.16.1->albumentations) (2.6.3)\n",
            "Requirement already satisfied: pillow!=7.1.0,!=7.1.1,>=4.3.0 in /usr/local/lib/python3.7/dist-packages (from scikit-image>=0.16.1->albumentations) (7.1.2)\n",
            "Requirement already satisfied: matplotlib!=3.0.0,>=2.0.0 in /usr/local/lib/python3.7/dist-packages (from scikit-image>=0.16.1->albumentations) (3.2.2)\n",
            "Requirement already satisfied: cycler>=0.10 in /usr/local/lib/python3.7/dist-packages (from matplotlib!=3.0.0,>=2.0.0->scikit-image>=0.16.1->albumentations) (0.11.0)\n",
            "Requirement already satisfied: python-dateutil>=2.1 in /usr/local/lib/python3.7/dist-packages (from matplotlib!=3.0.0,>=2.0.0->scikit-image>=0.16.1->albumentations) (2.8.2)\n",
            "Requirement already satisfied: pyparsing!=2.0.4,!=2.1.2,!=2.1.6,>=2.0.1 in /usr/local/lib/python3.7/dist-packages (from matplotlib!=3.0.0,>=2.0.0->scikit-image>=0.16.1->albumentations) (3.0.9)\n",
            "Requirement already satisfied: kiwisolver>=1.0.1 in /usr/local/lib/python3.7/dist-packages (from matplotlib!=3.0.0,>=2.0.0->scikit-image>=0.16.1->albumentations) (1.4.4)\n",
            "Requirement already satisfied: six>=1.5 in /usr/local/lib/python3.7/dist-packages (from python-dateutil>=2.1->matplotlib!=3.0.0,>=2.0.0->scikit-image>=0.16.1->albumentations) (1.15.0)\n",
            "Requirement already satisfied: joblib>=0.11 in /usr/local/lib/python3.7/dist-packages (from scikit-learn>=0.19.1->qudida>=0.0.4->albumentations) (1.1.0)\n",
            "Requirement already satisfied: threadpoolctl>=2.0.0 in /usr/local/lib/python3.7/dist-packages (from scikit-learn>=0.19.1->qudida>=0.0.4->albumentations) (3.1.0)\n"
          ]
        }
      ]
    },
    {
      "cell_type": "code",
      "execution_count": 15,
      "metadata": {
        "id": "VkOJXFmilOMb",
        "colab": {
          "base_uri": "https://localhost:8080/"
        },
        "outputId": "476db321-9723-46c8-d3e3-31b1bd433ced"
      },
      "outputs": [
        {
          "output_type": "stream",
          "name": "stderr",
          "text": [
            "/usr/local/lib/python3.7/dist-packages/Cython/Compiler/Main.py:369: FutureWarning: Cython directive 'language_level' not set, using 2 for now (Py2). This will change in a later release! File: /usr/local/lib/python3.7/dist-packages/map_boxes/compute_overlap.pyx\n",
            "  tree = Parsing.p_module(s, pxd, full_module_name)\n"
          ]
        }
      ],
      "source": [
        "import os\n",
        "import shutil\n",
        "import pandas as pd\n",
        "from sklearn.model_selection import train_test_split\n",
        "from map_boxes import mean_average_precision_for_boxes\n",
        "from tqdm import tqdm\n",
        "import pandas as pd\n",
        "import random"
      ]
    },
    {
      "cell_type": "markdown",
      "source": [
        ""
      ],
      "metadata": {
        "id": "WgCCK0Eh9f3O"
      }
    },
    {
      "cell_type": "code",
      "source": [
        "!git clone https://github.com/ultralytics/yolov5.git"
      ],
      "metadata": {
        "colab": {
          "base_uri": "https://localhost:8080/"
        },
        "id": "_6oMEgW87rEZ",
        "outputId": "dde90dc7-0868-4caf-a8ac-58ce02457a1d"
      },
      "execution_count": 16,
      "outputs": [
        {
          "output_type": "stream",
          "name": "stdout",
          "text": [
            "Cloning into 'yolov5'...\n",
            "remote: Enumerating objects: 11806, done.\u001b[K\n",
            "remote: Counting objects: 100% (6/6), done.\u001b[K\n",
            "remote: Compressing objects: 100% (6/6), done.\u001b[K\n",
            "remote: Total 11806 (delta 1), reused 0 (delta 0), pack-reused 11800\u001b[K\n",
            "Receiving objects: 100% (11806/11806), 12.41 MiB | 24.82 MiB/s, done.\n",
            "Resolving deltas: 100% (8115/8115), done.\n"
          ]
        }
      ]
    },
    {
      "cell_type": "code",
      "source": [
        "!pip install -r /content/yolov5/requirements.txt"
      ],
      "metadata": {
        "colab": {
          "base_uri": "https://localhost:8080/"
        },
        "id": "bzXteV_wO1zA",
        "outputId": "5c3ccd8b-7bf7-45a5-c05c-3e439efaba91"
      },
      "execution_count": 17,
      "outputs": [
        {
          "output_type": "stream",
          "name": "stdout",
          "text": [
            "Looking in indexes: https://pypi.org/simple, https://us-python.pkg.dev/colab-wheels/public/simple/\n",
            "Requirement already satisfied: matplotlib>=3.2.2 in /usr/local/lib/python3.7/dist-packages (from -r /content/yolov5/requirements.txt (line 5)) (3.2.2)\n",
            "Requirement already satisfied: numpy>=1.18.5 in /usr/local/lib/python3.7/dist-packages (from -r /content/yolov5/requirements.txt (line 6)) (1.21.6)\n",
            "Requirement already satisfied: opencv-python>=4.1.1 in /usr/local/lib/python3.7/dist-packages (from -r /content/yolov5/requirements.txt (line 7)) (4.6.0.66)\n",
            "Requirement already satisfied: Pillow>=7.1.2 in /usr/local/lib/python3.7/dist-packages (from -r /content/yolov5/requirements.txt (line 8)) (7.1.2)\n",
            "Collecting PyYAML>=5.3.1\n",
            "  Downloading PyYAML-6.0-cp37-cp37m-manylinux_2_5_x86_64.manylinux1_x86_64.manylinux_2_12_x86_64.manylinux2010_x86_64.whl (596 kB)\n",
            "\u001b[K     |████████████████████████████████| 596 kB 27.2 MB/s \n",
            "\u001b[?25hRequirement already satisfied: requests>=2.23.0 in /usr/local/lib/python3.7/dist-packages (from -r /content/yolov5/requirements.txt (line 10)) (2.23.0)\n",
            "Requirement already satisfied: scipy>=1.4.1 in /usr/local/lib/python3.7/dist-packages (from -r /content/yolov5/requirements.txt (line 11)) (1.7.3)\n",
            "Requirement already satisfied: torch>=1.7.0 in /usr/local/lib/python3.7/dist-packages (from -r /content/yolov5/requirements.txt (line 12)) (1.12.1+cu113)\n",
            "Requirement already satisfied: torchvision>=0.8.1 in /usr/local/lib/python3.7/dist-packages (from -r /content/yolov5/requirements.txt (line 13)) (0.13.1+cu113)\n",
            "Requirement already satisfied: tqdm>=4.64.0 in /usr/local/lib/python3.7/dist-packages (from -r /content/yolov5/requirements.txt (line 14)) (4.64.0)\n",
            "Requirement already satisfied: protobuf<=3.20.1 in /usr/local/lib/python3.7/dist-packages (from -r /content/yolov5/requirements.txt (line 15)) (3.17.3)\n",
            "Requirement already satisfied: tensorboard>=2.4.1 in /usr/local/lib/python3.7/dist-packages (from -r /content/yolov5/requirements.txt (line 18)) (2.8.0)\n",
            "Requirement already satisfied: pandas>=1.1.4 in /usr/local/lib/python3.7/dist-packages (from -r /content/yolov5/requirements.txt (line 23)) (1.3.5)\n",
            "Requirement already satisfied: seaborn>=0.11.0 in /usr/local/lib/python3.7/dist-packages (from -r /content/yolov5/requirements.txt (line 24)) (0.11.2)\n",
            "Requirement already satisfied: ipython in /usr/local/lib/python3.7/dist-packages (from -r /content/yolov5/requirements.txt (line 38)) (7.9.0)\n",
            "Requirement already satisfied: psutil in /usr/local/lib/python3.7/dist-packages (from -r /content/yolov5/requirements.txt (line 39)) (5.4.8)\n",
            "Collecting thop>=0.1.1\n",
            "  Downloading thop-0.1.1.post2207130030-py3-none-any.whl (15 kB)\n",
            "Requirement already satisfied: cycler>=0.10 in /usr/local/lib/python3.7/dist-packages (from matplotlib>=3.2.2->-r /content/yolov5/requirements.txt (line 5)) (0.11.0)\n",
            "Requirement already satisfied: kiwisolver>=1.0.1 in /usr/local/lib/python3.7/dist-packages (from matplotlib>=3.2.2->-r /content/yolov5/requirements.txt (line 5)) (1.4.4)\n",
            "Requirement already satisfied: python-dateutil>=2.1 in /usr/local/lib/python3.7/dist-packages (from matplotlib>=3.2.2->-r /content/yolov5/requirements.txt (line 5)) (2.8.2)\n",
            "Requirement already satisfied: pyparsing!=2.0.4,!=2.1.2,!=2.1.6,>=2.0.1 in /usr/local/lib/python3.7/dist-packages (from matplotlib>=3.2.2->-r /content/yolov5/requirements.txt (line 5)) (3.0.9)\n",
            "Requirement already satisfied: urllib3!=1.25.0,!=1.25.1,<1.26,>=1.21.1 in /usr/local/lib/python3.7/dist-packages (from requests>=2.23.0->-r /content/yolov5/requirements.txt (line 10)) (1.24.3)\n",
            "Requirement already satisfied: idna<3,>=2.5 in /usr/local/lib/python3.7/dist-packages (from requests>=2.23.0->-r /content/yolov5/requirements.txt (line 10)) (2.10)\n",
            "Requirement already satisfied: certifi>=2017.4.17 in /usr/local/lib/python3.7/dist-packages (from requests>=2.23.0->-r /content/yolov5/requirements.txt (line 10)) (2022.6.15)\n",
            "Requirement already satisfied: chardet<4,>=3.0.2 in /usr/local/lib/python3.7/dist-packages (from requests>=2.23.0->-r /content/yolov5/requirements.txt (line 10)) (3.0.4)\n",
            "Requirement already satisfied: typing-extensions in /usr/local/lib/python3.7/dist-packages (from torch>=1.7.0->-r /content/yolov5/requirements.txt (line 12)) (4.1.1)\n",
            "Requirement already satisfied: six>=1.9 in /usr/local/lib/python3.7/dist-packages (from protobuf<=3.20.1->-r /content/yolov5/requirements.txt (line 15)) (1.15.0)\n",
            "Requirement already satisfied: markdown>=2.6.8 in /usr/local/lib/python3.7/dist-packages (from tensorboard>=2.4.1->-r /content/yolov5/requirements.txt (line 18)) (3.4.1)\n",
            "Requirement already satisfied: google-auth<3,>=1.6.3 in /usr/local/lib/python3.7/dist-packages (from tensorboard>=2.4.1->-r /content/yolov5/requirements.txt (line 18)) (1.35.0)\n",
            "Requirement already satisfied: absl-py>=0.4 in /usr/local/lib/python3.7/dist-packages (from tensorboard>=2.4.1->-r /content/yolov5/requirements.txt (line 18)) (1.2.0)\n",
            "Requirement already satisfied: google-auth-oauthlib<0.5,>=0.4.1 in /usr/local/lib/python3.7/dist-packages (from tensorboard>=2.4.1->-r /content/yolov5/requirements.txt (line 18)) (0.4.6)\n",
            "Requirement already satisfied: tensorboard-plugin-wit>=1.6.0 in /usr/local/lib/python3.7/dist-packages (from tensorboard>=2.4.1->-r /content/yolov5/requirements.txt (line 18)) (1.8.1)\n",
            "Requirement already satisfied: tensorboard-data-server<0.7.0,>=0.6.0 in /usr/local/lib/python3.7/dist-packages (from tensorboard>=2.4.1->-r /content/yolov5/requirements.txt (line 18)) (0.6.1)\n",
            "Requirement already satisfied: wheel>=0.26 in /usr/local/lib/python3.7/dist-packages (from tensorboard>=2.4.1->-r /content/yolov5/requirements.txt (line 18)) (0.37.1)\n",
            "Requirement already satisfied: setuptools>=41.0.0 in /usr/local/lib/python3.7/dist-packages (from tensorboard>=2.4.1->-r /content/yolov5/requirements.txt (line 18)) (57.4.0)\n",
            "Requirement already satisfied: werkzeug>=0.11.15 in /usr/local/lib/python3.7/dist-packages (from tensorboard>=2.4.1->-r /content/yolov5/requirements.txt (line 18)) (1.0.1)\n",
            "Requirement already satisfied: grpcio>=1.24.3 in /usr/local/lib/python3.7/dist-packages (from tensorboard>=2.4.1->-r /content/yolov5/requirements.txt (line 18)) (1.47.0)\n",
            "Requirement already satisfied: pytz>=2017.3 in /usr/local/lib/python3.7/dist-packages (from pandas>=1.1.4->-r /content/yolov5/requirements.txt (line 23)) (2022.1)\n",
            "Requirement already satisfied: rsa<5,>=3.1.4 in /usr/local/lib/python3.7/dist-packages (from google-auth<3,>=1.6.3->tensorboard>=2.4.1->-r /content/yolov5/requirements.txt (line 18)) (4.9)\n",
            "Requirement already satisfied: cachetools<5.0,>=2.0.0 in /usr/local/lib/python3.7/dist-packages (from google-auth<3,>=1.6.3->tensorboard>=2.4.1->-r /content/yolov5/requirements.txt (line 18)) (4.2.4)\n",
            "Requirement already satisfied: pyasn1-modules>=0.2.1 in /usr/local/lib/python3.7/dist-packages (from google-auth<3,>=1.6.3->tensorboard>=2.4.1->-r /content/yolov5/requirements.txt (line 18)) (0.2.8)\n",
            "Requirement already satisfied: requests-oauthlib>=0.7.0 in /usr/local/lib/python3.7/dist-packages (from google-auth-oauthlib<0.5,>=0.4.1->tensorboard>=2.4.1->-r /content/yolov5/requirements.txt (line 18)) (1.3.1)\n",
            "Requirement already satisfied: importlib-metadata>=4.4 in /usr/local/lib/python3.7/dist-packages (from markdown>=2.6.8->tensorboard>=2.4.1->-r /content/yolov5/requirements.txt (line 18)) (4.12.0)\n",
            "Requirement already satisfied: zipp>=0.5 in /usr/local/lib/python3.7/dist-packages (from importlib-metadata>=4.4->markdown>=2.6.8->tensorboard>=2.4.1->-r /content/yolov5/requirements.txt (line 18)) (3.8.1)\n",
            "Requirement already satisfied: pyasn1<0.5.0,>=0.4.6 in /usr/local/lib/python3.7/dist-packages (from pyasn1-modules>=0.2.1->google-auth<3,>=1.6.3->tensorboard>=2.4.1->-r /content/yolov5/requirements.txt (line 18)) (0.4.8)\n",
            "Requirement already satisfied: oauthlib>=3.0.0 in /usr/local/lib/python3.7/dist-packages (from requests-oauthlib>=0.7.0->google-auth-oauthlib<0.5,>=0.4.1->tensorboard>=2.4.1->-r /content/yolov5/requirements.txt (line 18)) (3.2.0)\n",
            "Requirement already satisfied: decorator in /usr/local/lib/python3.7/dist-packages (from ipython->-r /content/yolov5/requirements.txt (line 38)) (4.4.2)\n",
            "Requirement already satisfied: pickleshare in /usr/local/lib/python3.7/dist-packages (from ipython->-r /content/yolov5/requirements.txt (line 38)) (0.7.5)\n",
            "Requirement already satisfied: backcall in /usr/local/lib/python3.7/dist-packages (from ipython->-r /content/yolov5/requirements.txt (line 38)) (0.2.0)\n",
            "Requirement already satisfied: traitlets>=4.2 in /usr/local/lib/python3.7/dist-packages (from ipython->-r /content/yolov5/requirements.txt (line 38)) (5.1.1)\n",
            "Requirement already satisfied: prompt-toolkit<2.1.0,>=2.0.0 in /usr/local/lib/python3.7/dist-packages (from ipython->-r /content/yolov5/requirements.txt (line 38)) (2.0.10)\n",
            "Collecting jedi>=0.10\n",
            "  Downloading jedi-0.18.1-py2.py3-none-any.whl (1.6 MB)\n",
            "\u001b[K     |████████████████████████████████| 1.6 MB 47.5 MB/s \n",
            "\u001b[?25hRequirement already satisfied: pexpect in /usr/local/lib/python3.7/dist-packages (from ipython->-r /content/yolov5/requirements.txt (line 38)) (4.8.0)\n",
            "Requirement already satisfied: pygments in /usr/local/lib/python3.7/dist-packages (from ipython->-r /content/yolov5/requirements.txt (line 38)) (2.6.1)\n",
            "Requirement already satisfied: parso<0.9.0,>=0.8.0 in /usr/local/lib/python3.7/dist-packages (from jedi>=0.10->ipython->-r /content/yolov5/requirements.txt (line 38)) (0.8.3)\n",
            "Requirement already satisfied: wcwidth in /usr/local/lib/python3.7/dist-packages (from prompt-toolkit<2.1.0,>=2.0.0->ipython->-r /content/yolov5/requirements.txt (line 38)) (0.2.5)\n",
            "Requirement already satisfied: ptyprocess>=0.5 in /usr/local/lib/python3.7/dist-packages (from pexpect->ipython->-r /content/yolov5/requirements.txt (line 38)) (0.7.0)\n",
            "Installing collected packages: jedi, thop, PyYAML\n",
            "  Attempting uninstall: PyYAML\n",
            "    Found existing installation: PyYAML 3.13\n",
            "    Uninstalling PyYAML-3.13:\n",
            "      Successfully uninstalled PyYAML-3.13\n",
            "Successfully installed PyYAML-6.0 jedi-0.18.1 thop-0.1.1.post2207130030\n"
          ]
        }
      ]
    },
    {
      "cell_type": "code",
      "source": [
        "from google.colab import drive\n",
        "drive.mount('/content/drive')"
      ],
      "metadata": {
        "id": "O4QBkMCchTMb"
      },
      "execution_count": null,
      "outputs": []
    },
    {
      "cell_type": "code",
      "source": [
        "path_to_train = '/content/drive/MyDrive/data_sec/datasets/train' # путь до тренировочных данных\n",
        "path_to_test = '/content/drive/MyDrive/data_sec/datasets/test' # путь до валидационных данных\n",
        "path_to_train_imgs = f'{path_to_train}/images/'\n",
        "path_to_test_imgs = f'{path_to_test}/images/'\n",
        "path_to_train_labels = f'{path_to_train}/labels/'"
      ],
      "metadata": {
        "id": "ALVgro2lhO9s"
      },
      "execution_count": 19,
      "outputs": []
    },
    {
      "cell_type": "code",
      "source": [
        "dict_objects = {'car': [], 'human': [], 'head': [], 'face': [], 'carplate': []}\n",
        "dict_cat_objects = {'car': 0, 'head': 1, 'face': 2, 'human': 3, 'carplate': 4}"
      ],
      "metadata": {
        "id": "-K7pd_kduDTV"
      },
      "execution_count": 22,
      "outputs": []
    },
    {
      "cell_type": "code",
      "source": [
        "for file_name in os.listdir(path_to_train_labels): # Разделение тренировочных labels на классы\n",
        "    if 'car' in file_name and 'carplate' not in file_name:\n",
        "        dict_objects['car'].append(file_name)\n",
        "    elif 'human' in file_name:\n",
        "        dict_objects['human'].append(file_name)\n",
        "    elif 'head' in file_name:\n",
        "        dict_objects['head'].append(file_name)\n",
        "    elif 'carplate' in file_name:\n",
        "        dict_objects['carplate'].append(file_name)\n",
        "    elif 'face' in file_name:\n",
        "        dict_objects['face'].append(file_name)"
      ],
      "metadata": {
        "id": "LtBo7-Ruub0I"
      },
      "execution_count": 10,
      "outputs": []
    },
    {
      "cell_type": "code",
      "source": [
        "dict_objects['head'][0]"
      ],
      "metadata": {
        "id": "y-ETzn9OzaB7",
        "colab": {
          "base_uri": "https://localhost:8080/",
          "height": 36
        },
        "outputId": "8e6c0532-74c9-4643-f7fd-d182077f60a6"
      },
      "execution_count": 11,
      "outputs": [
        {
          "output_type": "execute_result",
          "data": {
            "text/plain": [
              "'26-11-2021_04-47-50_AM_head..txt'"
            ],
            "application/vnd.google.colaboratory.intrinsic+json": {
              "type": "string"
            }
          },
          "metadata": {},
          "execution_count": 11
        }
      ]
    },
    {
      "cell_type": "code",
      "source": [
        "#распределение объектов в train\n",
        "pd.Series([file_name.split('_')[-1] for file_name in os.listdir(path_to_train_labels)]).value_counts()"
      ],
      "metadata": {
        "id": "bOBWZga29_c4",
        "colab": {
          "base_uri": "https://localhost:8080/"
        },
        "outputId": "accefd74-2413-4b34-91c9-4e6cd7b86dc0"
      },
      "execution_count": 12,
      "outputs": [
        {
          "output_type": "execute_result",
          "data": {
            "text/plain": [
              "head..txt        1741\n",
              "human..txt       1740\n",
              "car..txt         1647\n",
              "face..txt         630\n",
              "carplate..txt     246\n",
              "dtype: int64"
            ]
          },
          "metadata": {},
          "execution_count": 12
        }
      ]
    },
    {
      "cell_type": "code",
      "source": [
        "#создадим обучающий датасет в формате yolo\n",
        "!mkdir data_for_yolo\n",
        "!mkdir data_for_yolo/data\n",
        "!mkdir data_for_yolo/data/images\n",
        "!mkdir data_for_yolo/data/labels\n",
        "!mkdir data_for_yolo/data/images/train\n",
        "!mkdir data_for_yolo/data/labels/train\n",
        "!mkdir data_for_yolo/data/images/test\n",
        "!mkdir data_for_yolo/data/labels/test"
      ],
      "metadata": {
        "id": "BRJDX-KY-h8H"
      },
      "execution_count": 13,
      "outputs": []
    },
    {
      "cell_type": "code",
      "source": [
        "names = ['car', 'head', 'face', 'human', 'carplate'] # список названий классов"
      ],
      "metadata": {
        "id": "FGp_TI0sK6Ic"
      },
      "execution_count": 14,
      "outputs": []
    },
    {
      "cell_type": "code",
      "source": [
        "# car: 512 size, 0.3 - iou_threshold\n",
        "# carplate: 1024 size, 0.4 - iou_threshold"
      ],
      "metadata": {
        "id": "uobn7A4O1GvS"
      },
      "execution_count": 15,
      "outputs": []
    },
    {
      "cell_type": "code",
      "source": [
        "name = names[3] # текущий объект детекции"
      ],
      "metadata": {
        "id": "ey9uLQoJGL8W"
      },
      "execution_count": 13,
      "outputs": []
    },
    {
      "cell_type": "code",
      "source": [
        "#в папке data_for_yolo создадим dataset.yaml со следующим содержимым\n",
        "\n",
        "yaml_content = {\n",
        "    'train': '/content/drive/MyDrive/data_sec/data_for_yolo/data/images/train', \n",
        "     'val': '/content/drive/MyDrive/data_sec/data_for_yolo/data/images/test',\n",
        "     'nc': 1,\n",
        "     'names': [name]\n",
        "}"
      ],
      "metadata": {
        "id": "ixwz4xVvAWf5"
      },
      "execution_count": 17,
      "outputs": []
    },
    {
      "cell_type": "code",
      "source": [
        "# добавление в словарь labels в соответствии классам\n",
        "dict_images_names = {'car': [], 'human': [], 'head': [], 'face': [], 'carplate': []}\n",
        "\n",
        "for key in dict_objects:\n",
        "    for val in dict_objects[key]:\n",
        "        if 'car' in val and 'carplate' not in val:\n",
        "            dict_images_names['car'].append(val.split('_car..txt')[0])\n",
        "        elif 'human' in val:\n",
        "            dict_images_names['human'].append(val.split('_human..txt')[0])\n",
        "        elif 'head' in val:\n",
        "            dict_images_names['head'].append(val.split('_head..txt')[0])\n",
        "        elif 'carplate' in val:\n",
        "            dict_images_names['carplate'].append(val.split('_carplate..txt')[0])\n",
        "        elif 'face' in val:\n",
        "            dict_images_names['face'].append(val.split('_face..txt')[0])\n"
      ],
      "metadata": {
        "id": "xkM_iyAmCMNp"
      },
      "execution_count": null,
      "outputs": []
    },
    {
      "cell_type": "code",
      "source": [
        "train_images_car, test_images_car = train_test_split(dict_images_names['car'], test_size=0.2, random_state=22)\n",
        "train_images_human, test_images_human = train_test_split(dict_images_names['human'], test_size=0.2, random_state=22)\n",
        "train_images_head, test_images_head = train_test_split(dict_images_names['head'], test_size=0.2, random_state=22)\n",
        "train_images_carplate, test_images_carplate = train_test_split(dict_images_names['carplate'], test_size=0.1, random_state=22)\n",
        "train_images_face, test_images_face = train_test_split(dict_images_names['face'], test_size=0.1, random_state=22)"
      ],
      "metadata": {
        "id": "rm6f742rCfPp"
      },
      "execution_count": null,
      "outputs": []
    },
    {
      "cell_type": "code",
      "source": [
        "# выбор train и val для обучения в сооветствии классу\n",
        "train_images_name = train_images_car\n",
        "test_images_name = test_images_car"
      ],
      "metadata": {
        "id": "7KcjzMYcoLW0"
      },
      "execution_count": null,
      "outputs": []
    },
    {
      "cell_type": "code",
      "source": [
        "# Наполнение папок файлами для обучения\n",
        "\n",
        "#train\n",
        "for train_image in tqdm(train_images_name):\n",
        "  #labels\n",
        "  for file in os.listdir(path_to_train_labels): \n",
        "    if f'_{name}..txt' in file and train_image in file:\n",
        "      rep_name = name\n",
        "      shutil.copy(path_to_train_labels + file, '/content/drive/MyDrive/data_sec/data_for_yolo/data/labels/train/' + file.replace(f'_{rep_name}..txt', '.txt'))\n",
        "  #images '/content/drive/MyDrive/data_sec/datasets/train'\n",
        "  for file in os.listdir(path_to_train_imgs): \n",
        "    if train_image + '.jpg' == file: \n",
        "      shutil.copy(path_to_train_imgs + file, '/content/drive/MyDrive/data_sec/data_for_yolo/data/images/train/')\n",
        "\n",
        "#test\n",
        "for test_image in tqdm(test_images_name):\n",
        "  #labels\n",
        "  for file in os.listdir(path_to_train_labels): \n",
        "    if f'_{name}..txt' in file and test_image in file:\n",
        "      rep_name = name\n",
        "      shutil.copy(path_to_train_labels + file, '/content/drive/MyDrive/data_sec/data_for_yolo/data/labels/test/' + file.replace(f'_{rep_name}..txt', '.txt'))\n",
        "  #images \n",
        "  for file in os.listdir(path_to_train_imgs): \n",
        "    if test_image + '.jpg' == file: \n",
        "      shutil.copy(path_to_train_imgs + file, '/content/drive/MyDrive/data_sec/data_for_yolo/data/images/test/')"
      ],
      "metadata": {
        "id": "xxzLV7Bv-gyy",
        "colab": {
          "base_uri": "https://localhost:8080/"
        },
        "outputId": "d5a18b60-2304-4a8f-8151-f2434b02f05d"
      },
      "execution_count": null,
      "outputs": [
        {
          "output_type": "stream",
          "name": "stderr",
          "text": [
            "100%|██████████| 567/567 [05:07<00:00,  1.85it/s]\n",
            "100%|██████████| 63/63 [00:28<00:00,  2.23it/s]\n"
          ]
        }
      ]
    },
    {
      "cell_type": "code",
      "source": [
        "print(len(os.listdir('/content/drive/MyDrive/data_sec/data_for_yolo/data/images/test')))\n",
        "print(len(os.listdir('/content/drive/MyDrive/data_sec/data_for_yolo/data/images/train')))"
      ],
      "metadata": {
        "id": "fRWrAGBW__OM",
        "colab": {
          "base_uri": "https://localhost:8080/"
        },
        "outputId": "14a43a4d-c391-4b7b-9629-2b8a6a9a0b25"
      },
      "execution_count": 18,
      "outputs": [
        {
          "output_type": "stream",
          "name": "stdout",
          "text": [
            "348\n",
            "1392\n"
          ]
        }
      ]
    },
    {
      "cell_type": "code",
      "source": [
        "print(len(os.listdir('/content/drive/MyDrive/data_sec/data_for_yolo/data/labels/test')))\n",
        "print(len(os.listdir('/content/drive/MyDrive/data_sec/data_for_yolo/data/labels/train')))"
      ],
      "metadata": {
        "id": "eySlFIcZQP2f",
        "colab": {
          "base_uri": "https://localhost:8080/"
        },
        "outputId": "34e072fd-88e0-4156-a341-c029d748e8b3"
      },
      "execution_count": 19,
      "outputs": [
        {
          "output_type": "stream",
          "name": "stdout",
          "text": [
            "348\n",
            "1392\n"
          ]
        }
      ]
    },
    {
      "cell_type": "markdown",
      "source": [
        "### Добавление новых данных в data"
      ],
      "metadata": {
        "id": "F4FaE7KVRWl2"
      }
    },
    {
      "cell_type": "code",
      "source": [
        "c = k = 0\n",
        "for i in os.listdir('/content/drive/MyDrive/data_sec/data_for_yolo/data/labels/train'):\n",
        "  if 'Part' in i:\n",
        "    c += 1\n",
        "    #os.remove('/content/drive/MyDrive/data_sec/data_for_yolo/data/labels/test/' + i)\n",
        "  else:\n",
        "    k += 1\n",
        "print(c, k)"
      ],
      "metadata": {
        "colab": {
          "base_uri": "https://localhost:8080/"
        },
        "id": "ODOjjw1xPCjG",
        "outputId": "0fc3d7dc-dd3e-4ac6-ce44-e1ecb1d06c1a"
      },
      "execution_count": null,
      "outputs": [
        {
          "output_type": "stream",
          "name": "stdout",
          "text": [
            "550 1392\n"
          ]
        }
      ]
    },
    {
      "cell_type": "code",
      "source": [
        "lst_names_txt_train = []\n",
        "lst_names_txt_test = []\n",
        "for c, i in enumerate(os.listdir(path_to_txt_files)):\n",
        "  if c < 550:\n",
        "    lst_names_txt_train.append(i.split('.')[0])\n",
        "    shutil.copy(path_to_txt_files + '/' + i, '/content/drive/MyDrive/data_sec/data_for_yolo/data/labels/train/' + i)\n",
        "\n",
        "for c, i in enumerate(os.listdir(path_to_txt_files)):\n",
        "  if c > 749:\n",
        "    lst_names_txt_test.append(i.split('.')[0])\n",
        "    shutil.copy(path_to_txt_files + '/' + i, '/content/drive/MyDrive/data_sec/data_for_yolo/data/labels/test/' + i)\n",
        "\n",
        "for c, i in enumerate(os.listdir('/content/drive/MyDrive/data_sec/data_for_yolo/data_without_new_data/images_2')):\n",
        "  if i.split('.')[0] in lst_names_txt_train:\n",
        "    shutil.copy('/content/drive/MyDrive/data_sec/data_for_yolo/data_without_new_data/images_2/' + i, '/content/drive/MyDrive/data_sec/data_for_yolo/data/images/train/' + i)\n",
        "\n",
        "for c, i in enumerate(os.listdir('/content/drive/MyDrive/data_sec/data_for_yolo/data_without_new_data/images_2')):\n",
        "  if i.split('.')[0] in lst_names_txt_test:\n",
        "    shutil.copy('/content/drive/MyDrive/data_sec/data_for_yolo/data_without_new_data/images_2/' + i, '/content/drive/MyDrive/data_sec/data_for_yolo/data/images/test/' + i)"
      ],
      "metadata": {
        "id": "4tbcx3jLMRuS"
      },
      "execution_count": null,
      "outputs": []
    },
    {
      "cell_type": "markdown",
      "source": [
        "### Парсинг и преобразование xml-файлов в yolo-формат"
      ],
      "metadata": {
        "id": "-rbnVapKPU47"
      }
    },
    {
      "cell_type": "code",
      "source": [
        "path_to_xml_files = '/content/drive/MyDrive/data_sec/data_for_yolo/data_without_new_data/labels_2_xml'\n",
        "path_to_txt_files = '/content/drive/MyDrive/data_sec/data_for_yolo/data_without_new_data/labels_2_txt'"
      ],
      "metadata": {
        "id": "y5O8kqkXLNPx"
      },
      "execution_count": null,
      "outputs": []
    },
    {
      "cell_type": "code",
      "source": [
        "from bs4 import BeautifulSoup\n",
        " \n",
        "def parseXML(xml_file):\n",
        "    fd = open(xml_file, 'r') \n",
        "    xml_file = fd.read() \n",
        "    soup = BeautifulSoup(xml_file, 'xml')\n",
        "    lst = []\n",
        "    for x_min, y_min, x_max, y_max in zip(soup.findAll('xmin'), soup.findAll('ymin'), soup.findAll('xmax'), soup.findAll('ymax')): \n",
        "      lst.append(list(map(float, [x_min.text, x_max.text, y_min.text, y_max.text])))\n",
        "    width, height = int(soup.find('width').text), int(soup.find('height').text)\n",
        "    fd.close()\n",
        "    return width, height, lst\n"
      ],
      "metadata": {
        "id": "XpNXLV6ZPYij"
      },
      "execution_count": null,
      "outputs": []
    },
    {
      "cell_type": "code",
      "source": [
        "def convert_coordinates(size, boxes):\n",
        "    lst = []\n",
        "    for box in boxes:\n",
        "        dw = 1.0/size[0]\n",
        "        dh = 1.0/size[1]\n",
        "        x = (box[0]+box[1])/2.0\n",
        "        y = (box[2]+box[3])/2.0\n",
        "        w = box[1]-box[0]\n",
        "        h = box[3]-box[2]\n",
        "        x = x*dw\n",
        "        w = w*dw\n",
        "        y = y*dh\n",
        "        h = h*dh\n",
        "        lst.append((x,y,w,h))\n",
        "    return lst"
      ],
      "metadata": {
        "id": "h1M3cfjPBrB_"
      },
      "execution_count": null,
      "outputs": []
    },
    {
      "cell_type": "code",
      "source": [
        "for name_img in tqdm(os.listdir(path_to_xml_files)):\n",
        "  width, height, coords = parseXML(f'{path_to_xml_files}/{name_img}')\n",
        "  yolo_format_coords = convert_coordinates((width, height), coords)\n",
        "  file_txt = f'{path_to_txt_files}/{name_img.split(\".\")[0]}.txt'\n",
        "  file = open(file_txt, 'w')\n",
        "  for coord in yolo_format_coords:\n",
        "    #file.write(str(dict_cat_objects[name]) + ' ' + str(coord)[1:-1].replace(', ', ' ') + '\\n')\n",
        "    file.write('0' + ' ' + str(coord)[1:-1].replace(', ', ' ') + '\\n')\n",
        "    \n",
        "  file.close()\n"
      ],
      "metadata": {
        "id": "77lV5m3QPUPZ"
      },
      "execution_count": null,
      "outputs": []
    },
    {
      "cell_type": "code",
      "source": [
        "c = 0\n",
        "for i in os.listdir(path_to_txt_files):\n",
        "  c += 1\n",
        "print(c)"
      ],
      "metadata": {
        "id": "Bh80K2GdKcfl"
      },
      "execution_count": null,
      "outputs": []
    },
    {
      "cell_type": "markdown",
      "source": [
        "### Обучение"
      ],
      "metadata": {
        "id": "I95MvqDMPegZ"
      }
    },
    {
      "cell_type": "code",
      "source": [
        "path_to_data = f'/content/drive/MyDrive/data_sec/data_for_yolo/dataset_{name}.yaml'"
      ],
      "metadata": {
        "id": "LA9f-mEWOLkH"
      },
      "execution_count": 20,
      "outputs": []
    },
    {
      "cell_type": "code",
      "source": [
        "#обучение\n",
        "import yaml\n",
        "with open(f'{path_to_data}', 'w') as f:\n",
        "    yaml.dump(yaml_content, f)"
      ],
      "metadata": {
        "id": "5BJ-jh9jOB0H"
      },
      "execution_count": 21,
      "outputs": []
    },
    {
      "cell_type": "code",
      "source": [
        "yaml_content"
      ],
      "metadata": {
        "id": "tOMMDPO3XLPM"
      },
      "execution_count": null,
      "outputs": []
    },
    {
      "cell_type": "code",
      "source": [
        "!nvidia-smi"
      ],
      "metadata": {
        "id": "W7AN6he9V9z7"
      },
      "execution_count": null,
      "outputs": []
    },
    {
      "cell_type": "code",
      "source": [
        "!pip install wandb\n",
        "!pip install -U albumentations"
      ],
      "metadata": {
        "id": "Xt2eAPAZuibO",
        "colab": {
          "base_uri": "https://localhost:8080/"
        },
        "outputId": "b1247881-d628-422b-bd96-fc05c41fd6ab"
      },
      "execution_count": null,
      "outputs": [
        {
          "output_type": "stream",
          "name": "stdout",
          "text": [
            "Looking in indexes: https://pypi.org/simple, https://us-python.pkg.dev/colab-wheels/public/simple/\n",
            "Collecting wandb\n",
            "  Downloading wandb-0.13.1-py2.py3-none-any.whl (1.8 MB)\n",
            "\u001b[K     |████████████████████████████████| 1.8 MB 20.4 MB/s \n",
            "\u001b[?25hRequirement already satisfied: PyYAML in /usr/local/lib/python3.7/dist-packages (from wandb) (6.0)\n",
            "Collecting shortuuid>=0.5.0\n",
            "  Downloading shortuuid-1.0.9-py3-none-any.whl (9.4 kB)\n",
            "Collecting GitPython>=1.0.0\n",
            "  Downloading GitPython-3.1.27-py3-none-any.whl (181 kB)\n",
            "\u001b[K     |████████████████████████████████| 181 kB 74.6 MB/s \n",
            "\u001b[?25hRequirement already satisfied: six>=1.13.0 in /usr/local/lib/python3.7/dist-packages (from wandb) (1.15.0)\n",
            "Collecting sentry-sdk>=1.0.0\n",
            "  Downloading sentry_sdk-1.9.5-py2.py3-none-any.whl (157 kB)\n",
            "\u001b[K     |████████████████████████████████| 157 kB 69.7 MB/s \n",
            "\u001b[?25hCollecting setproctitle\n",
            "  Downloading setproctitle-1.3.2-cp37-cp37m-manylinux_2_5_x86_64.manylinux1_x86_64.manylinux_2_17_x86_64.manylinux2014_x86_64.whl (30 kB)\n",
            "Requirement already satisfied: psutil>=5.0.0 in /usr/local/lib/python3.7/dist-packages (from wandb) (5.4.8)\n",
            "Requirement already satisfied: protobuf<4.0dev,>=3.12.0 in /usr/local/lib/python3.7/dist-packages (from wandb) (3.17.3)\n",
            "Requirement already satisfied: requests<3,>=2.0.0 in /usr/local/lib/python3.7/dist-packages (from wandb) (2.23.0)\n",
            "Collecting docker-pycreds>=0.4.0\n",
            "  Downloading docker_pycreds-0.4.0-py2.py3-none-any.whl (9.0 kB)\n",
            "Requirement already satisfied: promise<3,>=2.0 in /usr/local/lib/python3.7/dist-packages (from wandb) (2.3)\n",
            "Requirement already satisfied: setuptools in /usr/local/lib/python3.7/dist-packages (from wandb) (57.4.0)\n",
            "Requirement already satisfied: Click!=8.0.0,>=7.0 in /usr/local/lib/python3.7/dist-packages (from wandb) (7.1.2)\n",
            "Collecting pathtools\n",
            "  Downloading pathtools-0.1.2.tar.gz (11 kB)\n",
            "Collecting gitdb<5,>=4.0.1\n",
            "  Downloading gitdb-4.0.9-py3-none-any.whl (63 kB)\n",
            "\u001b[K     |████████████████████████████████| 63 kB 2.3 MB/s \n",
            "\u001b[?25hRequirement already satisfied: typing-extensions>=3.7.4.3 in /usr/local/lib/python3.7/dist-packages (from GitPython>=1.0.0->wandb) (4.1.1)\n",
            "Collecting smmap<6,>=3.0.1\n",
            "  Downloading smmap-5.0.0-py3-none-any.whl (24 kB)\n",
            "Requirement already satisfied: certifi>=2017.4.17 in /usr/local/lib/python3.7/dist-packages (from requests<3,>=2.0.0->wandb) (2022.6.15)\n",
            "Requirement already satisfied: chardet<4,>=3.0.2 in /usr/local/lib/python3.7/dist-packages (from requests<3,>=2.0.0->wandb) (3.0.4)\n",
            "Requirement already satisfied: idna<3,>=2.5 in /usr/local/lib/python3.7/dist-packages (from requests<3,>=2.0.0->wandb) (2.10)\n",
            "Requirement already satisfied: urllib3!=1.25.0,!=1.25.1,<1.26,>=1.21.1 in /usr/local/lib/python3.7/dist-packages (from requests<3,>=2.0.0->wandb) (1.24.3)\n",
            "Collecting sentry-sdk>=1.0.0\n",
            "  Downloading sentry_sdk-1.9.4-py2.py3-none-any.whl (157 kB)\n",
            "\u001b[K     |████████████████████████████████| 157 kB 76.8 MB/s \n",
            "\u001b[?25h  Downloading sentry_sdk-1.9.3-py2.py3-none-any.whl (157 kB)\n",
            "\u001b[K     |████████████████████████████████| 157 kB 74.4 MB/s \n",
            "\u001b[?25h  Downloading sentry_sdk-1.9.2-py2.py3-none-any.whl (157 kB)\n",
            "\u001b[K     |████████████████████████████████| 157 kB 78.6 MB/s \n",
            "\u001b[?25h  Downloading sentry_sdk-1.9.1-py2.py3-none-any.whl (157 kB)\n",
            "\u001b[K     |████████████████████████████████| 157 kB 74.3 MB/s \n",
            "\u001b[?25h  Downloading sentry_sdk-1.9.0-py2.py3-none-any.whl (156 kB)\n",
            "\u001b[K     |████████████████████████████████| 156 kB 78.7 MB/s \n",
            "\u001b[?25hBuilding wheels for collected packages: pathtools\n",
            "  Building wheel for pathtools (setup.py) ... \u001b[?25l\u001b[?25hdone\n",
            "  Created wheel for pathtools: filename=pathtools-0.1.2-py3-none-any.whl size=8806 sha256=04a8632ebe6571c26b346e659c1cc61875537cee826358f5be7f26c27a7147b2\n",
            "  Stored in directory: /root/.cache/pip/wheels/3e/31/09/fa59cef12cdcfecc627b3d24273699f390e71828921b2cbba2\n",
            "Successfully built pathtools\n",
            "Installing collected packages: smmap, gitdb, shortuuid, setproctitle, sentry-sdk, pathtools, GitPython, docker-pycreds, wandb\n",
            "Successfully installed GitPython-3.1.27 docker-pycreds-0.4.0 gitdb-4.0.9 pathtools-0.1.2 sentry-sdk-1.9.0 setproctitle-1.3.2 shortuuid-1.0.9 smmap-5.0.0 wandb-0.13.1\n",
            "Looking in indexes: https://pypi.org/simple, https://us-python.pkg.dev/colab-wheels/public/simple/\n",
            "Requirement already satisfied: albumentations in /usr/local/lib/python3.7/dist-packages (1.2.1)\n",
            "Requirement already satisfied: qudida>=0.0.4 in /usr/local/lib/python3.7/dist-packages (from albumentations) (0.0.4)\n",
            "Requirement already satisfied: PyYAML in /usr/local/lib/python3.7/dist-packages (from albumentations) (6.0)\n",
            "Requirement already satisfied: scikit-image>=0.16.1 in /usr/local/lib/python3.7/dist-packages (from albumentations) (0.18.3)\n",
            "Requirement already satisfied: opencv-python-headless>=4.1.1 in /usr/local/lib/python3.7/dist-packages (from albumentations) (4.6.0.66)\n",
            "Requirement already satisfied: scipy in /usr/local/lib/python3.7/dist-packages (from albumentations) (1.7.3)\n",
            "Requirement already satisfied: numpy>=1.11.1 in /usr/local/lib/python3.7/dist-packages (from albumentations) (1.21.6)\n",
            "Requirement already satisfied: scikit-learn>=0.19.1 in /usr/local/lib/python3.7/dist-packages (from qudida>=0.0.4->albumentations) (1.0.2)\n",
            "Requirement already satisfied: typing-extensions in /usr/local/lib/python3.7/dist-packages (from qudida>=0.0.4->albumentations) (4.1.1)\n",
            "Requirement already satisfied: matplotlib!=3.0.0,>=2.0.0 in /usr/local/lib/python3.7/dist-packages (from scikit-image>=0.16.1->albumentations) (3.2.2)\n",
            "Requirement already satisfied: tifffile>=2019.7.26 in /usr/local/lib/python3.7/dist-packages (from scikit-image>=0.16.1->albumentations) (2021.11.2)\n",
            "Requirement already satisfied: PyWavelets>=1.1.1 in /usr/local/lib/python3.7/dist-packages (from scikit-image>=0.16.1->albumentations) (1.3.0)\n",
            "Requirement already satisfied: imageio>=2.3.0 in /usr/local/lib/python3.7/dist-packages (from scikit-image>=0.16.1->albumentations) (2.9.0)\n",
            "Requirement already satisfied: pillow!=7.1.0,!=7.1.1,>=4.3.0 in /usr/local/lib/python3.7/dist-packages (from scikit-image>=0.16.1->albumentations) (7.1.2)\n",
            "Requirement already satisfied: networkx>=2.0 in /usr/local/lib/python3.7/dist-packages (from scikit-image>=0.16.1->albumentations) (2.6.3)\n",
            "Requirement already satisfied: python-dateutil>=2.1 in /usr/local/lib/python3.7/dist-packages (from matplotlib!=3.0.0,>=2.0.0->scikit-image>=0.16.1->albumentations) (2.8.2)\n",
            "Requirement already satisfied: cycler>=0.10 in /usr/local/lib/python3.7/dist-packages (from matplotlib!=3.0.0,>=2.0.0->scikit-image>=0.16.1->albumentations) (0.11.0)\n",
            "Requirement already satisfied: kiwisolver>=1.0.1 in /usr/local/lib/python3.7/dist-packages (from matplotlib!=3.0.0,>=2.0.0->scikit-image>=0.16.1->albumentations) (1.4.4)\n",
            "Requirement already satisfied: pyparsing!=2.0.4,!=2.1.2,!=2.1.6,>=2.0.1 in /usr/local/lib/python3.7/dist-packages (from matplotlib!=3.0.0,>=2.0.0->scikit-image>=0.16.1->albumentations) (3.0.9)\n",
            "Requirement already satisfied: six>=1.5 in /usr/local/lib/python3.7/dist-packages (from python-dateutil>=2.1->matplotlib!=3.0.0,>=2.0.0->scikit-image>=0.16.1->albumentations) (1.15.0)\n",
            "Requirement already satisfied: threadpoolctl>=2.0.0 in /usr/local/lib/python3.7/dist-packages (from scikit-learn>=0.19.1->qudida>=0.0.4->albumentations) (3.1.0)\n",
            "Requirement already satisfied: joblib>=0.11 in /usr/local/lib/python3.7/dist-packages (from scikit-learn>=0.19.1->qudida>=0.0.4->albumentations) (1.1.0)\n"
          ]
        }
      ]
    },
    {
      "cell_type": "code",
      "source": [
        "!python ./yolov5/train.py --img 1280 --batch -1 --epochs 300 --data {path_to_data} --weights /content/drive/MyDrive/data_sec/data_for_yolo/outputs/results_human/best_4.pt --cfg /content/yolov5/models/hub/yolov5x6.yaml  --name yolov5x_results --cache"
      ],
      "metadata": {
        "colab": {
          "base_uri": "https://localhost:8080/"
        },
        "id": "cWr2R097OJMW",
        "outputId": "0a780504-d211-48fe-d83f-f7fdfa8b16bf"
      },
      "execution_count": null,
      "outputs": [
        {
          "output_type": "stream",
          "name": "stdout",
          "text": [
            "\u001b[34m\u001b[1mtrain: \u001b[0mweights=/content/drive/MyDrive/data_sec/data_for_yolo/outputs/results_face/best_1.pt, cfg=/content/yolov5/models/hub/yolov5x6.yaml, data=/content/drive/MyDrive/data_sec/data_for_yolo/dataset_face.yaml, hyp=yolov5/data/hyps/hyp.scratch-low.yaml, epochs=300, batch_size=-1, imgsz=1280, rect=False, resume=False, nosave=False, noval=False, noautoanchor=False, noplots=False, evolve=None, bucket=, cache=ram, image_weights=False, device=, multi_scale=False, single_cls=False, optimizer=SGD, sync_bn=False, workers=8, project=yolov5/runs/train, name=yolov5x_results, exist_ok=False, quad=False, cos_lr=False, label_smoothing=0.0, patience=100, freeze=[0], save_period=-1, seed=0, local_rank=-1, entity=None, upload_dataset=False, bbox_interval=-1, artifact_alias=latest\n",
            "\u001b[34m\u001b[1mgithub: \u001b[0mup to date with https://github.com/ultralytics/yolov5 ✅\n",
            "YOLOv5 🚀 v6.2-11-g529aafd Python-3.7.13 torch-1.12.1+cu113 CUDA:0 (Tesla T4, 15110MiB)\n",
            "\n",
            "\u001b[34m\u001b[1mhyperparameters: \u001b[0mlr0=0.01, lrf=0.01, momentum=0.937, weight_decay=0.0005, warmup_epochs=3.0, warmup_momentum=0.8, warmup_bias_lr=0.1, box=0.05, cls=0.5, cls_pw=1.0, obj=1.0, obj_pw=1.0, iou_t=0.2, anchor_t=4.0, fl_gamma=0.0, hsv_h=0.015, hsv_s=0.7, hsv_v=0.4, degrees=0.0, translate=0.1, scale=0.5, shear=0.0, perspective=0.0, flipud=0.0, fliplr=0.5, mosaic=1.0, mixup=0.0, copy_paste=0.0\n",
            "\u001b[34m\u001b[1mWeights & Biases: \u001b[0mrun 'pip install wandb' to automatically track and visualize YOLOv5 🚀 runs in Weights & Biases\n",
            "\u001b[34m\u001b[1mClearML: \u001b[0mrun 'pip install clearml' to automatically track, visualize and remotely train YOLOv5 🚀 in ClearML\n",
            "\u001b[34m\u001b[1mTensorBoard: \u001b[0mStart with 'tensorboard --logdir yolov5/runs/train', view at http://localhost:6006/\n",
            "Overriding model.yaml nc=80 with nc=1\n",
            "\n",
            "                 from  n    params  module                                  arguments                     \n",
            "  0                -1  1      8800  models.common.Conv                      [3, 80, 6, 2, 2]              \n",
            "  1                -1  1    115520  models.common.Conv                      [80, 160, 3, 2]               \n",
            "  2                -1  4    309120  models.common.C3                        [160, 160, 4]                 \n",
            "  3                -1  1    461440  models.common.Conv                      [160, 320, 3, 2]              \n",
            "  4                -1  8   2259200  models.common.C3                        [320, 320, 8]                 \n",
            "  5                -1  1   1844480  models.common.Conv                      [320, 640, 3, 2]              \n",
            "  6                -1 12  13125120  models.common.C3                        [640, 640, 12]                \n",
            "  7                -1  1   5531520  models.common.Conv                      [640, 960, 3, 2]              \n",
            "  8                -1  4  11070720  models.common.C3                        [960, 960, 4]                 \n",
            "  9                -1  1  11061760  models.common.Conv                      [960, 1280, 3, 2]             \n",
            " 10                -1  4  19676160  models.common.C3                        [1280, 1280, 4]               \n",
            " 11                -1  1   4099840  models.common.SPPF                      [1280, 1280, 5]               \n",
            " 12                -1  1   1230720  models.common.Conv                      [1280, 960, 1, 1]             \n",
            " 13                -1  1         0  torch.nn.modules.upsampling.Upsample    [None, 2, 'nearest']          \n",
            " 14           [-1, 8]  1         0  models.common.Concat                    [1]                           \n",
            " 15                -1  4  11992320  models.common.C3                        [1920, 960, 4, False]         \n",
            " 16                -1  1    615680  models.common.Conv                      [960, 640, 1, 1]              \n",
            " 17                -1  1         0  torch.nn.modules.upsampling.Upsample    [None, 2, 'nearest']          \n",
            " 18           [-1, 6]  1         0  models.common.Concat                    [1]                           \n",
            " 19                -1  4   5332480  models.common.C3                        [1280, 640, 4, False]         \n",
            " 20                -1  1    205440  models.common.Conv                      [640, 320, 1, 1]              \n",
            " 21                -1  1         0  torch.nn.modules.upsampling.Upsample    [None, 2, 'nearest']          \n",
            " 22           [-1, 4]  1         0  models.common.Concat                    [1]                           \n",
            " 23                -1  4   1335040  models.common.C3                        [640, 320, 4, False]          \n",
            " 24                -1  1    922240  models.common.Conv                      [320, 320, 3, 2]              \n",
            " 25          [-1, 20]  1         0  models.common.Concat                    [1]                           \n",
            " 26                -1  4   4922880  models.common.C3                        [640, 640, 4, False]          \n",
            " 27                -1  1   3687680  models.common.Conv                      [640, 640, 3, 2]              \n",
            " 28          [-1, 16]  1         0  models.common.Concat                    [1]                           \n",
            " 29                -1  4  11377920  models.common.C3                        [1280, 960, 4, False]         \n",
            " 30                -1  1   8296320  models.common.Conv                      [960, 960, 3, 2]              \n",
            " 31          [-1, 12]  1         0  models.common.Concat                    [1]                           \n",
            " 32                -1  4  20495360  models.common.C3                        [1920, 1280, 4, False]        \n",
            " 33  [23, 26, 29, 32]  1     57672  models.yolo.Detect                      [1, [[19, 27, 44, 40, 38, 94], [96, 68, 86, 152, 180, 137], [140, 301, 303, 264, 238, 542], [436, 615, 739, 380, 925, 792]], [320, 640, 960, 1280]]\n",
            "YOLOv5x6 summary: 733 layers, 140035432 parameters, 140035432 gradients, 208.8 GFLOPs\n",
            "\n",
            "Transferred 962/963 items from /content/drive/MyDrive/data_sec/data_for_yolo/outputs/results_face/best_1.pt\n",
            "\u001b[34m\u001b[1mAMP: \u001b[0mchecks passed ✅\n",
            "\u001b[34m\u001b[1mAutoBatch: \u001b[0mComputing optimal batch size for --imgsz 1280\n",
            "\u001b[34m\u001b[1mAutoBatch: \u001b[0mCUDA:0 (Tesla T4) 14.76G total, 1.10G reserved, 1.06G allocated, 12.60G free\n",
            "      Params      GFLOPs  GPU_mem (GB)  forward (ms) backward (ms)                   input                  output\n",
            "   140035432         835         4.542         133.3         114.1      (1, 3, 1280, 1280)                    list\n",
            "   140035432        1670         7.676         176.7         198.7      (2, 3, 1280, 1280)                    list\n",
            "   140035432        3340        13.621           346         394.5      (4, 3, 1280, 1280)                    list\n",
            "Unable to find a valid cuDNN algorithm to run convolution\n",
            "CUDA out of memory. Tried to allocate 250.00 MiB (GPU 0; 14.76 GiB total capacity; 13.14 GiB already allocated; 45.75 MiB free; 13.42 GiB reserved in total by PyTorch) If reserved memory is >> allocated memory try setting max_split_size_mb to avoid fragmentation.  See documentation for Memory Management and PYTORCH_CUDA_ALLOC_CONF\n",
            "\u001b[34m\u001b[1mAutoBatch: \u001b[0mUsing batch-size 3 for CUDA:0 10.63G/14.76G (72%) ✅\n",
            "\u001b[34m\u001b[1moptimizer:\u001b[0m SGD(lr=0.01) with parameter groups 159 weight(decay=0.0), 163 weight(decay=0.0004921875), 163 bias\n",
            "\u001b[34m\u001b[1malbumentations: \u001b[0mBlur(p=0.01, blur_limit=(3, 7)), MedianBlur(p=0.01, blur_limit=(3, 7)), ToGray(p=0.01), CLAHE(p=0.01, clip_limit=(1, 4.0), tile_grid_size=(8, 8))\n",
            "\u001b[34m\u001b[1mtrain: \u001b[0mScanning '/content/drive/MyDrive/data_sec/data_for_yolo/data/labels/train.cache' images and labels... 567 found, 0 missing, 0 empty, 0 corrupt: 100% 567/567 [00:00<?, ?it/s]\n",
            "\u001b[34m\u001b[1mtrain: \u001b[0mCaching images (1.6GB ram): 100% 567/567 [00:24<00:00, 22.74it/s]\n",
            "\u001b[34m\u001b[1mval: \u001b[0mScanning '/content/drive/MyDrive/data_sec/data_for_yolo/data/labels/test.cache' images and labels... 63 found, 0 missing, 0 empty, 0 corrupt: 100% 63/63 [00:00<?, ?it/s]\n",
            "\u001b[34m\u001b[1mval: \u001b[0mCaching images (0.2GB ram): 100% 63/63 [00:04<00:00, 13.54it/s]\n",
            "Plotting labels to yolov5/runs/train/yolov5x_results4/labels.jpg... \n",
            "\n",
            "\u001b[34m\u001b[1mAutoAnchor: \u001b[0m0.91 anchors/target, 0.651 Best Possible Recall (BPR). Anchors are a poor fit to dataset ⚠️, attempting to improve...\n",
            "\u001b[34m\u001b[1mAutoAnchor: \u001b[0mWARNING: Extremely small objects found: 19 of 747 labels are < 3 pixels in size\n",
            "\u001b[34m\u001b[1mAutoAnchor: \u001b[0mRunning kmeans for 12 anchors on 747 points...\n",
            "\u001b[34m\u001b[1mAutoAnchor: \u001b[0mEvolving anchors with Genetic Algorithm: fitness = 0.8904: 100% 1000/1000 [00:00<00:00, 2432.02it/s]\n",
            "\u001b[34m\u001b[1mAutoAnchor: \u001b[0mthr=0.25: 1.0000 best possible recall, 11.04 anchors past thr\n",
            "\u001b[34m\u001b[1mAutoAnchor: \u001b[0mn=12, img_size=1280, metric_all=0.547/0.890-mean/best, past_thr=0.577-mean: 3,4, 5,5, 6,6, 7,8, 8,8, 8,11, 11,10, 10,14, 13,12, 13,16, 18,19, 25,28\n",
            "\u001b[34m\u001b[1mAutoAnchor: \u001b[0mDone ✅ (optional: update model *.yaml to use these anchors in the future)\n",
            "Image sizes 1280 train, 1280 val\n",
            "Using 2 dataloader workers\n",
            "Logging results to \u001b[1myolov5/runs/train/yolov5x_results4\u001b[0m\n",
            "Starting training for 300 epochs...\n",
            "\n",
            "     Epoch   gpu_mem       box       obj       cls    labels  img_size\n",
            "     0/299     11.6G    0.0605   0.00952         0         9      1280: 100% 189/189 [02:51<00:00,  1.10it/s]\n",
            "               Class     Images     Labels          P          R     mAP@.5 mAP@.5:.95: 100% 11/11 [00:03<00:00,  2.85it/s]\n",
            "                 all         63         90      0.686        0.6      0.615      0.195\n",
            "\n",
            "     Epoch   gpu_mem       box       obj       cls    labels  img_size\n",
            "     1/299     12.8G   0.06367  0.008626         0         6      1280: 100% 189/189 [02:42<00:00,  1.16it/s]\n",
            "               Class     Images     Labels          P          R     mAP@.5 mAP@.5:.95: 100% 11/11 [00:03<00:00,  2.85it/s]\n",
            "                 all         63         90      0.719       0.54      0.588      0.212\n",
            "\n",
            "     Epoch   gpu_mem       box       obj       cls    labels  img_size\n",
            "     2/299     12.8G   0.07014  0.009544         0         3      1280:  47% 88/189 [01:16<01:27,  1.16it/s]\n",
            "Traceback (most recent call last):\n",
            "  File \"./yolov5/train.py\", line 632, in <module>\n",
            "    main(opt)\n",
            "  File \"./yolov5/train.py\", line 528, in main\n",
            "    train(opt.hyp, opt, device, callbacks)\n",
            "  File \"./yolov5/train.py\", line 335, in train\n",
            "    (f'{epoch}/{epochs - 1}', mem, *mloss, targets.shape[0], imgs.shape[-1]))\n",
            "KeyboardInterrupt\n"
          ]
        }
      ]
    },
    {
      "cell_type": "markdown",
      "source": [
        "### Предсказание"
      ],
      "metadata": {
        "id": "IP0GHVQDm6Th"
      }
    },
    {
      "cell_type": "code",
      "source": [
        "!python3 yolov5/detect.py --weights /content/drive/MyDrive/data_sec/data_for_yolo/outputs/results_human/best_4.pt --img 1280 --conf 0.4 --source /content/drive/MyDrive/data_sec/datasets/test/images --save-txt --save-conf"
      ],
      "metadata": {
        "colab": {
          "base_uri": "https://localhost:8080/"
        },
        "id": "IGlDlGr3jZta",
        "outputId": "fca3018d-2f24-4c71-c508-40d3a383f914"
      },
      "execution_count": 24,
      "outputs": [
        {
          "output_type": "stream",
          "name": "stdout",
          "text": [
            "\u001b[34m\u001b[1mdetect: \u001b[0mweights=['/content/drive/MyDrive/data_sec/data_for_yolo/outputs/results_human/best_4.pt'], source=/content/drive/MyDrive/data_sec/datasets/test/images, data=yolov5/data/coco128.yaml, imgsz=[1280, 1280], conf_thres=0.4, iou_thres=0.45, max_det=1000, device=, view_img=False, save_txt=True, save_conf=True, save_crop=False, nosave=False, classes=None, agnostic_nms=False, augment=False, visualize=False, update=False, project=yolov5/runs/detect, name=exp, exist_ok=False, line_thickness=3, hide_labels=False, hide_conf=False, half=False, dnn=False\n",
            "YOLOv5 🚀 v6.2-17-ga5a47c5 Python-3.7.13 torch-1.12.1+cu113 CPU\n",
            "\n",
            "Fusing layers... \n",
            "Model summary: 574 layers, 139970872 parameters, 0 gradients, 207.9 GFLOPs\n",
            "image 1/865 /content/drive/MyDrive/data_sec/datasets/test/images/0_23-11-2021_02-18-50_PM.jpg: 896x1280 (no detections), 12234.8ms\n",
            "image 2/865 /content/drive/MyDrive/data_sec/datasets/test/images/0_23-11-2021_02-18-56_PM.jpg: 1088x1280 1 person, 12306.8ms\n",
            "image 3/865 /content/drive/MyDrive/data_sec/datasets/test/images/0_23-11-2021_02-19-19_PM.jpg: 768x1280 (no detections), 9141.0ms\n",
            "image 4/865 /content/drive/MyDrive/data_sec/datasets/test/images/0_23-11-2021_02-20-47_PM.jpg: 896x1280 2 persons, 10116.2ms\n",
            "Traceback (most recent call last):\n",
            "  File \"yolov5/detect.py\", line 254, in <module>\n",
            "    main(opt)\n",
            "  File \"yolov5/detect.py\", line 249, in main\n",
            "    run(**vars(opt))\n",
            "  File \"/usr/local/lib/python3.7/dist-packages/torch/autograd/grad_mode.py\", line 27, in decorate_context\n",
            "    return func(*args, **kwargs)\n",
            "  File \"yolov5/detect.py\", line 122, in run\n",
            "    pred = model(im, augment=augment, visualize=visualize)\n",
            "  File \"/usr/local/lib/python3.7/dist-packages/torch/nn/modules/module.py\", line 1130, in _call_impl\n",
            "    return forward_call(*input, **kwargs)\n",
            "  File \"/content/yolov5/models/common.py\", line 468, in forward\n",
            "    y = self.model(im, augment=augment, visualize=visualize) if augment or visualize else self.model(im)\n",
            "  File \"/usr/local/lib/python3.7/dist-packages/torch/nn/modules/module.py\", line 1130, in _call_impl\n",
            "    return forward_call(*input, **kwargs)\n",
            "  File \"/content/yolov5/models/yolo.py\", line 192, in forward\n",
            "    return self._forward_once(x, profile, visualize)  # single-scale inference, train\n",
            "  File \"/content/yolov5/models/yolo.py\", line 105, in _forward_once\n",
            "    x = m(x)  # run\n",
            "KeyboardInterrupt\n"
          ]
        }
      ]
    },
    {
      "cell_type": "code",
      "source": [
        "def get_soliton_labels_df_simple_solution(path_to_txt_folder):\n",
        "  simple_solution = []\n",
        "  for detection_file in os.listdir(path_to_txt_folder):\n",
        "    img_name = detection_file.split('.')[0] + '.jpg'\n",
        "    with open(path_to_txt_folder + detection_file, 'r') as f:\n",
        "      data = f.read()\n",
        "      data = [i for i in data.split('\\n') if i != '']\n",
        "    for line in data:\n",
        "      val = [float(i) for i in line.split()]\n",
        "      _, xywh, conf = val[0], val[1:5], val[5]\n",
        "      center_x, center_y, width, height = xywh\n",
        "      xmin = center_x - (width / 2)\n",
        "      xmax = center_x + (width / 2)\n",
        "      ymin = center_y - (height / 2)\n",
        "      ymax = center_y + (height / 2)\n",
        "      simple_solution.append([img_name, dict_cat_objects[name], conf, xmin, xmax, ymin, ymax])\n",
        "  return simple_solution"
      ],
      "metadata": {
        "id": "MHexw0z9kF80"
      },
      "execution_count": 25,
      "outputs": []
    },
    {
      "cell_type": "code",
      "source": [
        "simple_solution = get_soliton_labels_df_simple_solution('yolov5/runs/detect/exp/labels/')\n",
        "simple_solution = pd.DataFrame(simple_solution, columns=['ImageID', 'LabelName', 'Conf', 'XMin', 'XMax', 'YMin', 'YMax'])"
      ],
      "metadata": {
        "id": "cbc3lBzGkNfs"
      },
      "execution_count": 32,
      "outputs": []
    },
    {
      "cell_type": "code",
      "source": [
        "simple_solution.to_csv(\"path/sample_solution.csv\", sep=';', index=False)"
      ],
      "metadata": {
        "id": "YDfLvlP1rXrx"
      },
      "execution_count": 33,
      "outputs": []
    },
    {
      "cell_type": "code",
      "source": [
        "df = pd.read_csv(\"path/sample_solution.csv\", sep=';', index_col=None)"
      ],
      "metadata": {
        "id": "bWp3vOturlAB"
      },
      "execution_count": 34,
      "outputs": []
    },
    {
      "cell_type": "code",
      "source": [
        "df"
      ],
      "metadata": {
        "colab": {
          "base_uri": "https://localhost:8080/",
          "height": 0
        },
        "id": "ZOBlOu1Jrqpd",
        "outputId": "1ebd0708-f8dc-4a12-ac66-26273a02a17f"
      },
      "execution_count": 35,
      "outputs": [
        {
          "output_type": "execute_result",
          "data": {
            "text/plain": [
              "                         ImageID  LabelName      Conf      XMin      XMax  \\\n",
              "0     24-11-2021_06-42-28_AM.jpg          4  0.902363  0.936719  0.951953   \n",
              "1     25-11-2021_06-59-00_PM.jpg          4  0.926120  0.234896  0.268230   \n",
              "2     26-11-2021_04-48-23_AM.jpg          4  0.882410  0.502084  0.536459   \n",
              "3     24-11-2021_12-56-12_PM.jpg          4  0.903053  0.109003  0.126489   \n",
              "4     26-11-2021_04-49-01_AM.jpg          4  0.882026  0.792187  0.806771   \n",
              "...                          ...        ...       ...       ...       ...   \n",
              "1922  25-11-2021_09-46-29_AM.jpg          4  0.901243  0.756250  0.776562   \n",
              "1923  24-11-2021_07-53-46_AM.jpg          4  0.494995  0.869141  0.885547   \n",
              "1924  24-11-2021_07-53-46_AM.jpg          4  0.898202  0.593750  0.618360   \n",
              "1925  24-11-2021_07-53-46_AM.jpg          4  0.919752  0.524610  0.552344   \n",
              "1926  24-11-2021_12-55-04_PM.jpg          4  0.878520  0.403125  0.420833   \n",
              "\n",
              "          YMin      YMax  \n",
              "0     0.308333  0.392361  \n",
              "1     0.396296  0.517592  \n",
              "2     0.447222  0.594444  \n",
              "3     0.338158  0.427632  \n",
              "4     0.198148  0.272222  \n",
              "...        ...       ...  \n",
              "1922  0.216667  0.327777  \n",
              "1923  0.309722  0.380556  \n",
              "1924  0.365278  0.470834  \n",
              "1925  0.397916  0.522222  \n",
              "1926  0.265741  0.337963  \n",
              "\n",
              "[1927 rows x 7 columns]"
            ],
            "text/html": [
              "\n",
              "  <div id=\"df-9fdbcc13-5899-4240-98f5-d64db7a36652\">\n",
              "    <div class=\"colab-df-container\">\n",
              "      <div>\n",
              "<style scoped>\n",
              "    .dataframe tbody tr th:only-of-type {\n",
              "        vertical-align: middle;\n",
              "    }\n",
              "\n",
              "    .dataframe tbody tr th {\n",
              "        vertical-align: top;\n",
              "    }\n",
              "\n",
              "    .dataframe thead th {\n",
              "        text-align: right;\n",
              "    }\n",
              "</style>\n",
              "<table border=\"1\" class=\"dataframe\">\n",
              "  <thead>\n",
              "    <tr style=\"text-align: right;\">\n",
              "      <th></th>\n",
              "      <th>ImageID</th>\n",
              "      <th>LabelName</th>\n",
              "      <th>Conf</th>\n",
              "      <th>XMin</th>\n",
              "      <th>XMax</th>\n",
              "      <th>YMin</th>\n",
              "      <th>YMax</th>\n",
              "    </tr>\n",
              "  </thead>\n",
              "  <tbody>\n",
              "    <tr>\n",
              "      <th>0</th>\n",
              "      <td>24-11-2021_06-42-28_AM.jpg</td>\n",
              "      <td>4</td>\n",
              "      <td>0.902363</td>\n",
              "      <td>0.936719</td>\n",
              "      <td>0.951953</td>\n",
              "      <td>0.308333</td>\n",
              "      <td>0.392361</td>\n",
              "    </tr>\n",
              "    <tr>\n",
              "      <th>1</th>\n",
              "      <td>25-11-2021_06-59-00_PM.jpg</td>\n",
              "      <td>4</td>\n",
              "      <td>0.926120</td>\n",
              "      <td>0.234896</td>\n",
              "      <td>0.268230</td>\n",
              "      <td>0.396296</td>\n",
              "      <td>0.517592</td>\n",
              "    </tr>\n",
              "    <tr>\n",
              "      <th>2</th>\n",
              "      <td>26-11-2021_04-48-23_AM.jpg</td>\n",
              "      <td>4</td>\n",
              "      <td>0.882410</td>\n",
              "      <td>0.502084</td>\n",
              "      <td>0.536459</td>\n",
              "      <td>0.447222</td>\n",
              "      <td>0.594444</td>\n",
              "    </tr>\n",
              "    <tr>\n",
              "      <th>3</th>\n",
              "      <td>24-11-2021_12-56-12_PM.jpg</td>\n",
              "      <td>4</td>\n",
              "      <td>0.903053</td>\n",
              "      <td>0.109003</td>\n",
              "      <td>0.126489</td>\n",
              "      <td>0.338158</td>\n",
              "      <td>0.427632</td>\n",
              "    </tr>\n",
              "    <tr>\n",
              "      <th>4</th>\n",
              "      <td>26-11-2021_04-49-01_AM.jpg</td>\n",
              "      <td>4</td>\n",
              "      <td>0.882026</td>\n",
              "      <td>0.792187</td>\n",
              "      <td>0.806771</td>\n",
              "      <td>0.198148</td>\n",
              "      <td>0.272222</td>\n",
              "    </tr>\n",
              "    <tr>\n",
              "      <th>...</th>\n",
              "      <td>...</td>\n",
              "      <td>...</td>\n",
              "      <td>...</td>\n",
              "      <td>...</td>\n",
              "      <td>...</td>\n",
              "      <td>...</td>\n",
              "      <td>...</td>\n",
              "    </tr>\n",
              "    <tr>\n",
              "      <th>1922</th>\n",
              "      <td>25-11-2021_09-46-29_AM.jpg</td>\n",
              "      <td>4</td>\n",
              "      <td>0.901243</td>\n",
              "      <td>0.756250</td>\n",
              "      <td>0.776562</td>\n",
              "      <td>0.216667</td>\n",
              "      <td>0.327777</td>\n",
              "    </tr>\n",
              "    <tr>\n",
              "      <th>1923</th>\n",
              "      <td>24-11-2021_07-53-46_AM.jpg</td>\n",
              "      <td>4</td>\n",
              "      <td>0.494995</td>\n",
              "      <td>0.869141</td>\n",
              "      <td>0.885547</td>\n",
              "      <td>0.309722</td>\n",
              "      <td>0.380556</td>\n",
              "    </tr>\n",
              "    <tr>\n",
              "      <th>1924</th>\n",
              "      <td>24-11-2021_07-53-46_AM.jpg</td>\n",
              "      <td>4</td>\n",
              "      <td>0.898202</td>\n",
              "      <td>0.593750</td>\n",
              "      <td>0.618360</td>\n",
              "      <td>0.365278</td>\n",
              "      <td>0.470834</td>\n",
              "    </tr>\n",
              "    <tr>\n",
              "      <th>1925</th>\n",
              "      <td>24-11-2021_07-53-46_AM.jpg</td>\n",
              "      <td>4</td>\n",
              "      <td>0.919752</td>\n",
              "      <td>0.524610</td>\n",
              "      <td>0.552344</td>\n",
              "      <td>0.397916</td>\n",
              "      <td>0.522222</td>\n",
              "    </tr>\n",
              "    <tr>\n",
              "      <th>1926</th>\n",
              "      <td>24-11-2021_12-55-04_PM.jpg</td>\n",
              "      <td>4</td>\n",
              "      <td>0.878520</td>\n",
              "      <td>0.403125</td>\n",
              "      <td>0.420833</td>\n",
              "      <td>0.265741</td>\n",
              "      <td>0.337963</td>\n",
              "    </tr>\n",
              "  </tbody>\n",
              "</table>\n",
              "<p>1927 rows × 7 columns</p>\n",
              "</div>\n",
              "      <button class=\"colab-df-convert\" onclick=\"convertToInteractive('df-9fdbcc13-5899-4240-98f5-d64db7a36652')\"\n",
              "              title=\"Convert this dataframe to an interactive table.\"\n",
              "              style=\"display:none;\">\n",
              "        \n",
              "  <svg xmlns=\"http://www.w3.org/2000/svg\" height=\"24px\"viewBox=\"0 0 24 24\"\n",
              "       width=\"24px\">\n",
              "    <path d=\"M0 0h24v24H0V0z\" fill=\"none\"/>\n",
              "    <path d=\"M18.56 5.44l.94 2.06.94-2.06 2.06-.94-2.06-.94-.94-2.06-.94 2.06-2.06.94zm-11 1L8.5 8.5l.94-2.06 2.06-.94-2.06-.94L8.5 2.5l-.94 2.06-2.06.94zm10 10l.94 2.06.94-2.06 2.06-.94-2.06-.94-.94-2.06-.94 2.06-2.06.94z\"/><path d=\"M17.41 7.96l-1.37-1.37c-.4-.4-.92-.59-1.43-.59-.52 0-1.04.2-1.43.59L10.3 9.45l-7.72 7.72c-.78.78-.78 2.05 0 2.83L4 21.41c.39.39.9.59 1.41.59.51 0 1.02-.2 1.41-.59l7.78-7.78 2.81-2.81c.8-.78.8-2.07 0-2.86zM5.41 20L4 18.59l7.72-7.72 1.47 1.35L5.41 20z\"/>\n",
              "  </svg>\n",
              "      </button>\n",
              "      \n",
              "  <style>\n",
              "    .colab-df-container {\n",
              "      display:flex;\n",
              "      flex-wrap:wrap;\n",
              "      gap: 12px;\n",
              "    }\n",
              "\n",
              "    .colab-df-convert {\n",
              "      background-color: #E8F0FE;\n",
              "      border: none;\n",
              "      border-radius: 50%;\n",
              "      cursor: pointer;\n",
              "      display: none;\n",
              "      fill: #1967D2;\n",
              "      height: 32px;\n",
              "      padding: 0 0 0 0;\n",
              "      width: 32px;\n",
              "    }\n",
              "\n",
              "    .colab-df-convert:hover {\n",
              "      background-color: #E2EBFA;\n",
              "      box-shadow: 0px 1px 2px rgba(60, 64, 67, 0.3), 0px 1px 3px 1px rgba(60, 64, 67, 0.15);\n",
              "      fill: #174EA6;\n",
              "    }\n",
              "\n",
              "    [theme=dark] .colab-df-convert {\n",
              "      background-color: #3B4455;\n",
              "      fill: #D2E3FC;\n",
              "    }\n",
              "\n",
              "    [theme=dark] .colab-df-convert:hover {\n",
              "      background-color: #434B5C;\n",
              "      box-shadow: 0px 1px 3px 1px rgba(0, 0, 0, 0.15);\n",
              "      filter: drop-shadow(0px 1px 2px rgba(0, 0, 0, 0.3));\n",
              "      fill: #FFFFFF;\n",
              "    }\n",
              "  </style>\n",
              "\n",
              "      <script>\n",
              "        const buttonEl =\n",
              "          document.querySelector('#df-9fdbcc13-5899-4240-98f5-d64db7a36652 button.colab-df-convert');\n",
              "        buttonEl.style.display =\n",
              "          google.colab.kernel.accessAllowed ? 'block' : 'none';\n",
              "\n",
              "        async function convertToInteractive(key) {\n",
              "          const element = document.querySelector('#df-9fdbcc13-5899-4240-98f5-d64db7a36652');\n",
              "          const dataTable =\n",
              "            await google.colab.kernel.invokeFunction('convertToInteractive',\n",
              "                                                     [key], {});\n",
              "          if (!dataTable) return;\n",
              "\n",
              "          const docLinkHtml = 'Like what you see? Visit the ' +\n",
              "            '<a target=\"_blank\" href=https://colab.research.google.com/notebooks/data_table.ipynb>data table notebook</a>'\n",
              "            + ' to learn more about interactive tables.';\n",
              "          element.innerHTML = '';\n",
              "          dataTable['output_type'] = 'display_data';\n",
              "          await google.colab.output.renderOutput(dataTable, element);\n",
              "          const docLink = document.createElement('div');\n",
              "          docLink.innerHTML = docLinkHtml;\n",
              "          element.appendChild(docLink);\n",
              "        }\n",
              "      </script>\n",
              "    </div>\n",
              "  </div>\n",
              "  "
            ]
          },
          "metadata": {},
          "execution_count": 35
        }
      ]
    },
    {
      "cell_type": "markdown",
      "source": [
        "### Объединение csv-файлов в один"
      ],
      "metadata": {
        "id": "tnuMaWpqneoR"
      }
    },
    {
      "cell_type": "code",
      "source": [
        "import pandas as pd\n",
        "import os\n",
        "import shutil"
      ],
      "metadata": {
        "id": "V2g_33d0yzKh"
      },
      "execution_count": 4,
      "outputs": []
    },
    {
      "cell_type": "code",
      "source": [
        "pd_face = pd.read_csv('path/sample_solution_face.csv', delimiter=';')\n",
        "pd_car = pd.read_csv('path/sample_solution_cars.csv', delimiter=';')\n",
        "pd_carplate = pd.read_csv('path/sample_solution_carplates.csv', delimiter=';')\n",
        "pd_human = pd.read_csv('path/sample_solution_human.csv', delimiter=';')\n",
        "pd_head = pd.read_csv('psth/sample_solution_head.csv', delimiter=';')"
      ],
      "metadata": {
        "id": "pC89mPuYy9o6"
      },
      "execution_count": 36,
      "outputs": []
    },
    {
      "cell_type": "code",
      "source": [
        "pd_res = pd.concat([pd_face, pd_car, pd_carplate, pd_human, pd_head])"
      ],
      "metadata": {
        "id": "xHd12Fs5z8b8"
      },
      "execution_count": 38,
      "outputs": []
    },
    {
      "cell_type": "code",
      "source": [
        "pd_res.to_csv('/content/drive/MyDrive/data_sec/data_for_yolo/outputs/result.csv', index=False, sep=';')"
      ],
      "metadata": {
        "id": "5II7FzkD0uIF"
      },
      "execution_count": 49,
      "outputs": []
    },
    {
      "cell_type": "code",
      "source": [
        "pd_res_2 = pd.read_csv('/content/drive/MyDrive/data_sec/data_for_yolo/outputs/result.csv', delimiter=';')"
      ],
      "metadata": {
        "id": "-RvVeKIi2B_y"
      },
      "execution_count": 10,
      "outputs": []
    },
    {
      "cell_type": "code",
      "source": [
        "pd_res_2.LabelName.value_counts()"
      ],
      "metadata": {
        "colab": {
          "base_uri": "https://localhost:8080/"
        },
        "id": "t7Cez9u98Iwr",
        "outputId": "7979e068-e7f8-467e-c344-083beed83feb"
      },
      "execution_count": 11,
      "outputs": [
        {
          "output_type": "execute_result",
          "data": {
            "text/plain": [
              "0    7317\n",
              "3    2045\n",
              "1    1759\n",
              "2     485\n",
              "4     222\n",
              "Name: LabelName, dtype: int64"
            ]
          },
          "metadata": {},
          "execution_count": 11
        }
      ]
    }
  ]
}
